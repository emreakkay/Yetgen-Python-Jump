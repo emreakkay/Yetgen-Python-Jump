{
 "cells": [
  {
   "attachments": {},
   "cell_type": "markdown",
   "metadata": {},
   "source": [
    "# Listeler"
   ]
  },
  {
   "attachments": {},
   "cell_type": "markdown",
   "metadata": {},
   "source": [
    "- [] içerisinde tutulur\n",
    "- indexleme, veri güncelleme, silme, veri ekleme gibi işlemler yapılabilir.\n",
    "- İç içe listeleme işlemi yapılabilir,"
   ]
  },
  {
   "cell_type": "code",
   "execution_count": 2,
   "metadata": {},
   "outputs": [
    {
     "name": "stdout",
     "output_type": "stream",
     "text": [
      "['Ahmet', 'Eslem', 'Berkcan', 'Çağla']\n"
     ]
    }
   ],
   "source": [
    "Liderler = [\"Ahmet\", \"Eslem\", \"Berkcan\",\"Çağla\"]\n",
    "print(Liderler)"
   ]
  },
  {
   "cell_type": "code",
   "execution_count": 4,
   "metadata": {},
   "outputs": [
    {
     "name": "stdout",
     "output_type": "stream",
     "text": [
      "Ahmet\n",
      "Çağla\n"
     ]
    }
   ],
   "source": [
    "print(Liderler[0])\n",
    "print(Liderler[-1])"
   ]
  },
  {
   "attachments": {},
   "cell_type": "markdown",
   "metadata": {},
   "source": [
    "# Liste Metodlari"
   ]
  },
  {
   "attachments": {},
   "cell_type": "markdown",
   "metadata": {},
   "source": [
    "- append() : Listenin sonuna eleman ekler.\n",
    "- remove() : Listenin içerisinden eleman siler."
   ]
  },
  {
   "cell_type": "code",
   "execution_count": 5,
   "metadata": {},
   "outputs": [],
   "source": [
    "Liderler.append(\"Emirhan\")"
   ]
  },
  {
   "cell_type": "code",
   "execution_count": 6,
   "metadata": {},
   "outputs": [
    {
     "name": "stdout",
     "output_type": "stream",
     "text": [
      "['Ahmet', 'Eslem', 'Berkcan', 'Çağla', 'Emirhan']\n"
     ]
    }
   ],
   "source": [
    "print(Liderler)"
   ]
  },
  {
   "cell_type": "code",
   "execution_count": 7,
   "metadata": {},
   "outputs": [],
   "source": [
    "Liderler.remove(\"Berkcan\")"
   ]
  },
  {
   "cell_type": "code",
   "execution_count": 8,
   "metadata": {},
   "outputs": [
    {
     "name": "stdout",
     "output_type": "stream",
     "text": [
      "['Ahmet', 'Eslem', 'Çağla', 'Emirhan']\n"
     ]
    }
   ],
   "source": [
    "print(Liderler)"
   ]
  },
  {
   "cell_type": "code",
   "execution_count": 10,
   "metadata": {},
   "outputs": [
    {
     "name": "stdout",
     "output_type": "stream",
     "text": [
      "['Ahmet', 'Eslem', 'Berkcan', 'Emirhan']\n"
     ]
    }
   ],
   "source": [
    "Liderler[2] = \"Berkcan\"\n",
    "print(Liderler)"
   ]
  },
  {
   "attachments": {},
   "cell_type": "markdown",
   "metadata": {},
   "source": [
    "- len() : Listenin uzunluğunu verir."
   ]
  },
  {
   "cell_type": "code",
   "execution_count": 9,
   "metadata": {},
   "outputs": [
    {
     "name": "stdout",
     "output_type": "stream",
     "text": [
      "4\n"
     ]
    }
   ],
   "source": [
    "print(len(Liderler))"
   ]
  },
  {
   "attachments": {},
   "cell_type": "markdown",
   "metadata": {},
   "source": [
    "- clear()"
   ]
  },
  {
   "cell_type": "code",
   "execution_count": 11,
   "metadata": {},
   "outputs": [],
   "source": [
    "Liderler.clear()"
   ]
  },
  {
   "cell_type": "code",
   "execution_count": 12,
   "metadata": {},
   "outputs": [
    {
     "data": {
      "text/plain": [
       "[]"
      ]
     },
     "execution_count": 12,
     "metadata": {},
     "output_type": "execute_result"
    }
   ],
   "source": [
    "Liderler"
   ]
  },
  {
   "attachments": {},
   "cell_type": "markdown",
   "metadata": {},
   "source": [
    "- index\n",
    "    - Listedeki elemanların indexinin verir.\n",
    "    - Aranan veriyi ilk bulunduğunda durur. Diğer verilerde aynı veri varsa getirmez\n",
    "    - Eğer veri bulunamazsa ValueError Hatası verir."
   ]
  },
  {
   "cell_type": "code",
   "execution_count": 26,
   "metadata": {},
   "outputs": [],
   "source": [
    "sehirler = list((\"Ankara\", \"Ankara\", \"Istanbul\", \"Izmir\"))"
   ]
  },
  {
   "cell_type": "code",
   "execution_count": 15,
   "metadata": {},
   "outputs": [
    {
     "name": "stdout",
     "output_type": "stream",
     "text": [
      "['Ankara', 'Istanbul', 'Izmir']\n"
     ]
    }
   ],
   "source": [
    "print(sehirler)"
   ]
  },
  {
   "cell_type": "code",
   "execution_count": 17,
   "metadata": {},
   "outputs": [
    {
     "name": "stdout",
     "output_type": "stream",
     "text": [
      "Ankara'nin indeksi : 0\n"
     ]
    }
   ],
   "source": [
    "print(\"Ankara'nin indeksi :\" , sehirler.index(\"Ankara\"))"
   ]
  },
  {
   "cell_type": "code",
   "execution_count": 19,
   "metadata": {},
   "outputs": [
    {
     "name": "stdout",
     "output_type": "stream",
     "text": [
      "Ankara'nin indeksi :0\n"
     ]
    }
   ],
   "source": [
    "print(\"Ankara'nin indeksi :\" +  str(sehirler.index(\"Ankara\")))"
   ]
  },
  {
   "cell_type": "code",
   "execution_count": 22,
   "metadata": {},
   "outputs": [
    {
     "ename": "ValueError",
     "evalue": "'Antalya' is not in list",
     "output_type": "error",
     "traceback": [
      "\u001b[1;31m---------------------------------------------------------------------------\u001b[0m",
      "\u001b[1;31mValueError\u001b[0m                                Traceback (most recent call last)",
      "Cell \u001b[1;32mIn[22], line 1\u001b[0m\n\u001b[1;32m----> 1\u001b[0m \u001b[39mprint\u001b[39m(\u001b[39m\"\u001b[39m\u001b[39mAntalya\u001b[39m\u001b[39m'\u001b[39m\u001b[39mnın indeksi :\u001b[39m\u001b[39m\"\u001b[39m, sehirler\u001b[39m.\u001b[39;49mindex(\u001b[39m\"\u001b[39;49m\u001b[39mAntalya\u001b[39;49m\u001b[39m\"\u001b[39;49m))\n",
      "\u001b[1;31mValueError\u001b[0m: 'Antalya' is not in list"
     ]
    }
   ],
   "source": [
    "print(\"Antalya'nın indeksi :\", sehirler.index(\"Antalya\"))"
   ]
  },
  {
   "attachments": {},
   "cell_type": "markdown",
   "metadata": {},
   "source": [
    "- pop(): Listedeki elemanı siler\n",
    "    - index verilmezse son elemanı siler\n",
    "    - index verilirse verilen indexdeki elamanı siler"
   ]
  },
  {
   "cell_type": "code",
   "execution_count": 28,
   "metadata": {},
   "outputs": [
    {
     "data": {
      "text/plain": [
       "'Izmir'"
      ]
     },
     "execution_count": 28,
     "metadata": {},
     "output_type": "execute_result"
    }
   ],
   "source": [
    "sehirler.pop()"
   ]
  },
  {
   "cell_type": "code",
   "execution_count": 29,
   "metadata": {},
   "outputs": [
    {
     "data": {
      "text/plain": [
       "'Ankara'"
      ]
     },
     "execution_count": 29,
     "metadata": {},
     "output_type": "execute_result"
    }
   ],
   "source": [
    "sehirler.pop(0)"
   ]
  },
  {
   "cell_type": "code",
   "execution_count": 30,
   "metadata": {},
   "outputs": [
    {
     "data": {
      "text/plain": [
       "['Ankara', 'Istanbul']"
      ]
     },
     "execution_count": 30,
     "metadata": {},
     "output_type": "execute_result"
    }
   ],
   "source": [
    "sehirler"
   ]
  },
  {
   "attachments": {},
   "cell_type": "markdown",
   "metadata": {},
   "source": [
    "- insert() : Istenilen indexe eleman ekler."
   ]
  },
  {
   "cell_type": "code",
   "execution_count": 32,
   "metadata": {},
   "outputs": [
    {
     "name": "stdout",
     "output_type": "stream",
     "text": [
      "['Adana', 'Istanbul', 'Izmir', 'Adana', 'Istanbul', 'Izmir', 'Ankara', 'Istanbul']\n"
     ]
    }
   ],
   "source": [
    "sehirler.insert(0,\"Adana\")\n",
    "sehirler.insert(1, \"Istanbul\")\n",
    "sehirler.insert(2, \"Izmir\")\n",
    "print(sehirler)"
   ]
  },
  {
   "attachments": {},
   "cell_type": "markdown",
   "metadata": {},
   "source": [
    "- reverse() : Listeyi ters çevirir."
   ]
  },
  {
   "cell_type": "code",
   "execution_count": 34,
   "metadata": {},
   "outputs": [
    {
     "name": "stdout",
     "output_type": "stream",
     "text": [
      "['Adana', 'Istanbul', 'Izmir', 'Adana', 'Istanbul', 'Izmir', 'Ankara', 'Istanbul']\n"
     ]
    }
   ],
   "source": [
    "sehirler.reverse()\n",
    "print(sehirler)"
   ]
  },
  {
   "attachments": {},
   "cell_type": "markdown",
   "metadata": {},
   "source": [
    "- sort(): Listeyi Küçükten büyüğe sıralar"
   ]
  },
  {
   "cell_type": "code",
   "execution_count": 35,
   "metadata": {},
   "outputs": [
    {
     "name": "stdout",
     "output_type": "stream",
     "text": [
      "['Adana', 'Adana', 'Ankara', 'Istanbul', 'Istanbul', 'Istanbul', 'Izmir', 'Izmir']\n"
     ]
    }
   ],
   "source": [
    "sehirler.sort()\n",
    "print(sehirler)"
   ]
  },
  {
   "attachments": {},
   "cell_type": "markdown",
   "metadata": {},
   "source": [
    "# Liste Toplama"
   ]
  },
  {
   "attachments": {},
   "cell_type": "markdown",
   "metadata": {},
   "source": [
    "- iki listeyi birlestirme"
   ]
  },
  {
   "cell_type": "code",
   "execution_count": 36,
   "metadata": {},
   "outputs": [
    {
     "name": "stdout",
     "output_type": "stream",
     "text": [
      "['Berkcan,', 'Ahmet', 'Enes', 'Çağla']\n"
     ]
    }
   ],
   "source": [
    "liste1 = [\"Berkcan,\",\"Ahmet\"]\n",
    "liste2 = [\"Enes\",\"Çağla\"]\n",
    "print(liste1+liste2)"
   ]
  },
  {
   "cell_type": "code",
   "execution_count": 38,
   "metadata": {},
   "outputs": [
    {
     "name": "stdout",
     "output_type": "stream",
     "text": [
      "1\n",
      "5\n",
      "berkcan\n",
      "4\n",
      "6\n",
      "2\n"
     ]
    }
   ],
   "source": [
    "nestedlist = [1,5,\"berkcan\",4,[6,\"2\"]]\n",
    "print(nestedlist[0])\n",
    "print(nestedlist[1])\n",
    "print(nestedlist[2])\n",
    "print(nestedlist[3])\n",
    "print(nestedlist[4][0])\n",
    "print(nestedlist[4][1])"
   ]
  },
  {
   "cell_type": "code",
   "execution_count": null,
   "metadata": {},
   "outputs": [],
   "source": []
  }
 ],
 "metadata": {
  "kernelspec": {
   "display_name": "Python 3",
   "language": "python",
   "name": "python3"
  },
  "language_info": {
   "codemirror_mode": {
    "name": "ipython",
    "version": 3
   },
   "file_extension": ".py",
   "mimetype": "text/x-python",
   "name": "python",
   "nbconvert_exporter": "python",
   "pygments_lexer": "ipython3",
   "version": "3.11.1"
  },
  "orig_nbformat": 4
 },
 "nbformat": 4,
 "nbformat_minor": 2
}
