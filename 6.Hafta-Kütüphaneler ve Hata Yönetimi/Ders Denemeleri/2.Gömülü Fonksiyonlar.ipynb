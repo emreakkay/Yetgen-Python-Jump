{
 "cells": [
  {
   "attachments": {},
   "cell_type": "markdown",
   "metadata": {},
   "source": [
    "## Map Fonksiyonu"
   ]
  },
  {
   "attachments": {},
   "cell_type": "markdown",
   "metadata": {},
   "source": [
    "Parametre olarak aldığı fonksiyona, parametre olarak aldığı listenin her elemanının sırasıyla parametre olarak gönderiri."
   ]
  },
  {
   "cell_type": "code",
   "execution_count": null,
   "metadata": {},
   "outputs": [],
   "source": [
    "map(fonksiyon, iterasyon yapılacak veritipi(lsite,demet vb),....)"
   ]
  },
  {
   "cell_type": "code",
   "execution_count": 6,
   "metadata": {},
   "outputs": [
    {
     "name": "stdout",
     "output_type": "stream",
     "text": [
      "[4, 64, 256, 1024, 4096]\n"
     ]
    }
   ],
   "source": [
    "numers = [2,8,16,32,64]\n",
    "powers = []\n",
    "def power(x):\n",
    "    return x **2\n",
    "powers = list(map(power,numers))\n",
    "print(powers)"
   ]
  },
  {
   "cell_type": "code",
   "execution_count": 9,
   "metadata": {},
   "outputs": [
    {
     "data": {
      "text/plain": [
       "[45, 120, 231, 384]"
      ]
     },
     "execution_count": 9,
     "metadata": {},
     "output_type": "execute_result"
    }
   ],
   "source": [
    "liste1= [1,2,3,4]\n",
    "liste2= [5,6,7,8,]\n",
    "liste3=[9,10,11,12,13]\n",
    "list(map(lambda x,y,z : x*y*z ,liste1,liste2,liste3))"
   ]
  },
  {
   "attachments": {},
   "cell_type": "markdown",
   "metadata": {},
   "source": [
    "# Filter Fonksiyonu"
   ]
  },
  {
   "attachments": {},
   "cell_type": "markdown",
   "metadata": {},
   "source": [
    "Isminden de anlaŞıldığı gibi filtreleme işlemi yapar"
   ]
  },
  {
   "cell_type": "code",
   "execution_count": 11,
   "metadata": {},
   "outputs": [
    {
     "data": {
      "text/plain": [
       "[0, 2, 4, 6, 8, 10]"
      ]
     },
     "execution_count": 11,
     "metadata": {},
     "output_type": "execute_result"
    }
   ],
   "source": [
    "list(filter(lambda x: x%2 ==0 ,[0,1,2,3,4,5,6,7,8,9,10]))"
   ]
  },
  {
   "cell_type": "code",
   "execution_count": 12,
   "metadata": {},
   "outputs": [
    {
     "data": {
      "text/plain": [
       "[2,\n",
       " 3,\n",
       " 5,\n",
       " 7,\n",
       " 11,\n",
       " 13,\n",
       " 17,\n",
       " 19,\n",
       " 23,\n",
       " 29,\n",
       " 31,\n",
       " 37,\n",
       " 41,\n",
       " 43,\n",
       " 47,\n",
       " 53,\n",
       " 59,\n",
       " 61,\n",
       " 67,\n",
       " 71,\n",
       " 73,\n",
       " 79,\n",
       " 83,\n",
       " 89,\n",
       " 97]"
      ]
     },
     "execution_count": 12,
     "metadata": {},
     "output_type": "execute_result"
    }
   ],
   "source": [
    "def asalmi(sayi):\n",
    "    i = 2\n",
    "    if (sayi ==1):\n",
    "        return False\n",
    "    if (sayi ==2):\n",
    "        return True\n",
    "    else:\n",
    "        while i <sayi:\n",
    "            if (sayi % i ==0):\n",
    "                return False\n",
    "            i +=1\n",
    "    return True\n",
    "\n",
    "list(filter(asalmi,range(1,100)))"
   ]
  },
  {
   "attachments": {},
   "cell_type": "markdown",
   "metadata": {},
   "source": [
    "## Zip Foknsiyonu"
   ]
  },
  {
   "cell_type": "code",
   "execution_count": 13,
   "metadata": {},
   "outputs": [
    {
     "data": {
      "text/plain": [
       "[(1, 5, 'python'), (2, 6, 'Java'), (3, 7, 'c#'), (4, 8, 'Javascrip')]"
      ]
     },
     "execution_count": 13,
     "metadata": {},
     "output_type": "execute_result"
    }
   ],
   "source": [
    "liste1 = [1,2,3,4]\n",
    "liste2 = [5,6,7,8]\n",
    "liste3 = [\"python\",\"Java\",\"c#\",\"Javascrip\"]\n",
    "list(zip(liste1,liste2,liste3))"
   ]
  },
  {
   "cell_type": "code",
   "execution_count": 14,
   "metadata": {},
   "outputs": [
    {
     "data": {
      "text/plain": [
       "[('Elma', 'Sifir'), ('Armut', 'Bir'), ('KIraz', 'Iki')]"
      ]
     },
     "execution_count": 14,
     "metadata": {},
     "output_type": "execute_result"
    }
   ],
   "source": [
    "sozluk1 = {\"Elma\":1, \"Armut\":2, \"KIraz\":3}\n",
    "sozluk2 = {\"Sifir\":0, \"Bir\": 1, \"Iki\":2}\n",
    "list(zip(sozluk1,sozluk2))"
   ]
  },
  {
   "attachments": {},
   "cell_type": "markdown",
   "metadata": {},
   "source": [
    "## enumare()"
   ]
  },
  {
   "attachments": {},
   "cell_type": "markdown",
   "metadata": {},
   "source": [
    "İngilizcede enumarete kelimesi 'numaralandırmak' anlamına gelir. enumarete() fonksiyonunu görevi de kelimenin bu anlamıyla aynıdır.Yani bu fonksiyonu kullanarak nesneleri numaralandırabiliriz."
   ]
  },
  {
   "cell_type": "code",
   "execution_count": 15,
   "metadata": {},
   "outputs": [
    {
     "data": {
      "text/plain": [
       "[(0, 'Elma'), (1, 'Armut'), (2, 'Muz'), (3, 'Kiraz')]"
      ]
     },
     "execution_count": 15,
     "metadata": {},
     "output_type": "execute_result"
    }
   ],
   "source": [
    "liste = [\"Elma\",\"Armut\",\"Muz\",\"Kiraz\"]\n",
    "list(enumerate(liste))"
   ]
  },
  {
   "attachments": {},
   "cell_type": "markdown",
   "metadata": {},
   "source": [
    "# all()"
   ]
  },
  {
   "attachments": {},
   "cell_type": "markdown",
   "metadata": {},
   "source": [
    "all() fonksiyonu bütün değerleri True ise True, en az bir değer False ise False sonuç döndürür"
   ]
  },
  {
   "cell_type": "code",
   "execution_count": 17,
   "metadata": {},
   "outputs": [
    {
     "data": {
      "text/plain": [
       "False"
      ]
     },
     "execution_count": 17,
     "metadata": {},
     "output_type": "execute_result"
    }
   ],
   "source": [
    "liste = [True,True,False]\n",
    "all(liste)"
   ]
  },
  {
   "cell_type": "code",
   "execution_count": null,
   "metadata": {},
   "outputs": [],
   "source": []
  },
  {
   "attachments": {},
   "cell_type": "markdown",
   "metadata": {},
   "source": [
    "## any()"
   ]
  },
  {
   "attachments": {},
   "cell_type": "markdown",
   "metadata": {},
   "source": [
    "any() fonksiyonu bütün değerleri False ise False en az bir değer True ise Ture sonuç döndürür"
   ]
  },
  {
   "cell_type": "code",
   "execution_count": 19,
   "metadata": {},
   "outputs": [
    {
     "data": {
      "text/plain": [
       "True"
      ]
     },
     "execution_count": 19,
     "metadata": {},
     "output_type": "execute_result"
    }
   ],
   "source": [
    "liste = [True,True,False]\n",
    "any(liste)"
   ]
  }
 ],
 "metadata": {
  "kernelspec": {
   "display_name": "Python 3",
   "language": "python",
   "name": "python3"
  },
  "language_info": {
   "codemirror_mode": {
    "name": "ipython",
    "version": 3
   },
   "file_extension": ".py",
   "mimetype": "text/x-python",
   "name": "python",
   "nbconvert_exporter": "python",
   "pygments_lexer": "ipython3",
   "version": "3.11.1"
  },
  "orig_nbformat": 4,
  "vscode": {
   "interpreter": {
    "hash": "3a1c4537c5b3c7754383bd24300ada60377b1a3102d30a23bd9a334da69a93b7"
   }
  }
 },
 "nbformat": 4,
 "nbformat_minor": 2
}
