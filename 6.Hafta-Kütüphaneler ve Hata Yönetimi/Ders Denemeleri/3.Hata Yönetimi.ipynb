{
 "cells": [
  {
   "attachments": {},
   "cell_type": "markdown",
   "metadata": {},
   "source": [
    "## Hata Yönetimi"
   ]
  },
  {
   "attachments": {},
   "cell_type": "markdown",
   "metadata": {},
   "source": [
    "- Ptyhon programlarinda bazen bir değişken tanımlanmadan kullanılmaya çalıştırılması. Ancak bu istisnai durumlarda, hataların türüne göre programlarımızı daha güvenki bir şekilde yazabiliriz. Yeni hata çıkarabilecek kodlarımızı öngörerek bu hataları programlarımızda yakalabiliriz"
   ]
  },
  {
   "cell_type": "code",
   "execution_count": 1,
   "metadata": {},
   "outputs": [
    {
     "ename": "NameError",
     "evalue": "name 'a' is not defined",
     "output_type": "error",
     "traceback": [
      "\u001b[1;31m---------------------------------------------------------------------------\u001b[0m",
      "\u001b[1;31mNameError\u001b[0m                                 Traceback (most recent call last)",
      "Cell \u001b[1;32mIn[1], line 1\u001b[0m\n\u001b[1;32m----> 1\u001b[0m \u001b[39mprint\u001b[39m(a)\n",
      "\u001b[1;31mNameError\u001b[0m: name 'a' is not defined"
     ]
    }
   ],
   "source": [
    "print(a)"
   ]
  },
  {
   "cell_type": "code",
   "execution_count": 2,
   "metadata": {},
   "outputs": [
    {
     "ename": "ZeroDivisionError",
     "evalue": "division by zero",
     "output_type": "error",
     "traceback": [
      "\u001b[1;31m---------------------------------------------------------------------------\u001b[0m",
      "\u001b[1;31mZeroDivisionError\u001b[0m                         Traceback (most recent call last)",
      "Cell \u001b[1;32mIn[2], line 1\u001b[0m\n\u001b[1;32m----> 1\u001b[0m \u001b[39mprint\u001b[39m(\u001b[39m2\u001b[39;49m\u001b[39m/\u001b[39;49m\u001b[39m0\u001b[39;49m)\n",
      "\u001b[1;31mZeroDivisionError\u001b[0m: division by zero"
     ]
    }
   ],
   "source": [
    "print(2/0)"
   ]
  },
  {
   "cell_type": "code",
   "execution_count": 3,
   "metadata": {},
   "outputs": [
    {
     "ename": "SyntaxError",
     "evalue": "Missing parentheses in call to 'print'. Did you mean print(...)? (1102733757.py, line 1)",
     "output_type": "error",
     "traceback": [
      "\u001b[1;36m  Cell \u001b[1;32mIn[3], line 1\u001b[1;36m\u001b[0m\n\u001b[1;33m    print \"Merhaba\"\u001b[0m\n\u001b[1;37m    ^\u001b[0m\n\u001b[1;31mSyntaxError\u001b[0m\u001b[1;31m:\u001b[0m Missing parentheses in call to 'print'. Did you mean print(...)?\n"
     ]
    }
   ],
   "source": [
    "print \"Merhaba\""
   ]
  },
  {
   "attachments": {},
   "cell_type": "markdown",
   "metadata": {},
   "source": [
    "# try, except blokları"
   ]
  },
  {
   "attachments": {},
   "cell_type": "markdown",
   "metadata": {},
   "source": [
    "- **try**:\n",
    "    - Hata çıkarabilecek kodlar buraya yazılıyor\n",
    "    - Eğer hata çıkarsa program uygun olan **except** bloğunu girecek\n",
    "    - Hata oluşursa **try** bloğunun geri kalanındaki işlemler çalışmayacak\n",
    "- **Except** Hata1:\n",
    "    - Hata 1 oluştuğunda burası çalışacak\n",
    "- **Except** Hata2:\n",
    "    - Hata 2 oluştuğunda burası çalışacak"
   ]
  },
  {
   "cell_type": "code",
   "execution_count": 4,
   "metadata": {},
   "outputs": [
    {
     "name": "stdout",
     "output_type": "stream",
     "text": [
      "Hata olustu\n"
     ]
    }
   ],
   "source": [
    "try:\n",
    "    a = int(\"abcd\")\n",
    "    print(\"Program burada\")\n",
    "except:\n",
    "    print(\"Hata olustu\")\n"
   ]
  },
  {
   "cell_type": "code",
   "execution_count": 5,
   "metadata": {},
   "outputs": [
    {
     "name": "stdout",
     "output_type": "stream",
     "text": [
      "Hata olustu\n",
      "Bloklar sona erdi\n"
     ]
    }
   ],
   "source": [
    "try:\n",
    "    a = int(\"abcd\")\n",
    "except ValueError:\n",
    "    print(\"Hata olustu\")\n",
    "print(\"Bloklar sona erdi\")"
   ]
  },
  {
   "cell_type": "code",
   "execution_count": 13,
   "metadata": {},
   "outputs": [
    {
     "name": "stdout",
     "output_type": "stream",
     "text": [
      "Bu sayı '0' bölünemez\n"
     ]
    }
   ],
   "source": [
    "try:\n",
    "    a = int(input(\"Sayi 1:\"))\n",
    "    b = int(input(\"Sayi 2:\"))\n",
    "    print(a/b)\n",
    "except ValueError:\n",
    "    print(\"İnputları doğru giriniz\")\n",
    "except ZeroDivisionError:\n",
    "    print(\"Bu sayı '0' bölünemez\")"
   ]
  },
  {
   "cell_type": "code",
   "execution_count": 15,
   "metadata": {},
   "outputs": [
    {
     "name": "stdout",
     "output_type": "stream",
     "text": [
      "ValueError ya da ZeroDivisionError\n"
     ]
    }
   ],
   "source": [
    "try:\n",
    "    a = int(input(\"Sayi 1:\"))\n",
    "    b = int(input(\"Sayi 2:\"))\n",
    "    print(a/b)\n",
    "except (ZeroDivisionError, ValueError):\n",
    "    print(\"ValueError ya da ZeroDivisionError\")"
   ]
  },
  {
   "attachments": {},
   "cell_type": "markdown",
   "metadata": {},
   "source": [
    "# try - except - else"
   ]
  },
  {
   "attachments": {},
   "cell_type": "markdown",
   "metadata": {},
   "source": [
    "- try bloğunun içinde hata oluşursa except bloğunna girer\n",
    "- try bloğunun içinde oluşmazsa else bloğununa girer"
   ]
  },
  {
   "attachments": {},
   "cell_type": "markdown",
   "metadata": {},
   "source": [
    "- **try**:\n",
    "    - hata çıkarabilecek kodlar buraya yazılır\n",
    "- **except Hata1**:\n",
    "    - Hata 1 oluştuğunda burası çalışacak\n",
    "- **else**:\n",
    "    - Hata oluşmazsa burası çalışacak"
   ]
  },
  {
   "cell_type": "code",
   "execution_count": 18,
   "metadata": {},
   "outputs": [
    {
     "name": "stdout",
     "output_type": "stream",
     "text": [
      "Sayı 0'a bölünemez.\n"
     ]
    }
   ],
   "source": [
    "try:\n",
    "    a =int(input(\"Sayı 1:\"))\n",
    "    b =int(input(\"Sayı 2:\"))\n",
    "    print(a/b)\n",
    "except ZeroDivisionError:\n",
    "    print(\"Sayı 0'a bölünemez.\")\n",
    "except ValueError:\n",
    "    print(\"Yanlış değer girdiniz\")\n",
    "else:\n",
    "    print(\"Program çalıştı\")\n"
   ]
  },
  {
   "attachments": {},
   "cell_type": "markdown",
   "metadata": {},
   "source": [
    "# try - except - finally"
   ]
  },
  {
   "attachments": {},
   "cell_type": "markdown",
   "metadata": {},
   "source": [
    "- **try**:\n",
    "    - hata çıkarabilecek kodlar buraya yazılır\n",
    "- **except Hata1**:\n",
    "    - Hata 1 oluştuğunda burası çalışacak\n",
    "- **finally**:\n",
    "    - Kesin olarak burası çalışacak"
   ]
  },
  {
   "cell_type": "code",
   "execution_count": 19,
   "metadata": {},
   "outputs": [
    {
     "name": "stdout",
     "output_type": "stream",
     "text": [
      "Sayı 0'a bölünemez.\n",
      "Program Sonra Erdi\n"
     ]
    }
   ],
   "source": [
    "try:\n",
    "    a =int(input(\"Sayı 1:\"))\n",
    "    b =int(input(\"Sayı 2:\"))\n",
    "    print(a/b)\n",
    "except ZeroDivisionError:\n",
    "    print(\"Sayı 0'a bölünemez.\")\n",
    "except ValueError:\n",
    "    print(\"Yanlış değer girdiniz\")\n",
    "finally:\n",
    "    print(\"Program Sonra Erdi\")"
   ]
  },
  {
   "cell_type": "code",
   "execution_count": 21,
   "metadata": {},
   "outputs": [
    {
     "name": "stdout",
     "output_type": "stream",
     "text": [
      "Hata olustu\n",
      "0\n"
     ]
    }
   ],
   "source": [
    "try:\n",
    "    liste = list(range(100))\n",
    "    print(liste[101])\n",
    "except:\n",
    "    print(\"Hata olustu\")\n",
    "finally:\n",
    "    liste.clear()\n",
    "print(len(liste))"
   ]
  },
  {
   "attachments": {},
   "cell_type": "markdown",
   "metadata": {},
   "source": [
    "## Hata Fırlattırma"
   ]
  },
  {
   "attachments": {},
   "cell_type": "markdown",
   "metadata": {},
   "source": [
    "- Hataların fırlatılması için raise kullanılır"
   ]
  },
  {
   "attachments": {},
   "cell_type": "markdown",
   "metadata": {},
   "source": [
    "raise HataAdı(opsiyonel hata mesajı)"
   ]
  },
  {
   "cell_type": "code",
   "execution_count": 3,
   "metadata": {},
   "outputs": [
    {
     "name": "stdout",
     "output_type": "stream",
     "text": [
      "Programda hata oluştu\n"
     ]
    }
   ],
   "source": [
    "def tersCevir(s):\n",
    "    if (type(s) != str):\n",
    "        raise ValueError(\"Lütfen doğru bir input giriniz\")\n",
    "    else:\n",
    "        return s[::-1]\n",
    "try:\n",
    "    print(tersCevir(1))\n",
    "except ValueError:\n",
    "    print(\"Programda hata oluştu\")"
   ]
  }
 ],
 "metadata": {
  "kernelspec": {
   "display_name": "Python 3",
   "language": "python",
   "name": "python3"
  },
  "language_info": {
   "codemirror_mode": {
    "name": "ipython",
    "version": 3
   },
   "file_extension": ".py",
   "mimetype": "text/x-python",
   "name": "python",
   "nbconvert_exporter": "python",
   "pygments_lexer": "ipython3",
   "version": "3.11.1"
  },
  "orig_nbformat": 4
 },
 "nbformat": 4,
 "nbformat_minor": 2
}
