{
 "cells": [
  {
   "attachments": {},
   "cell_type": "markdown",
   "metadata": {},
   "source": [
    "# Nesne Yönelimli Programlama(OOP)\n",
    "- DRY(Don'T Reapet Yourselft) - Kendini tekrar etme\n"
   ]
  },
  {
   "cell_type": "markdown",
   "metadata": {},
   "source": [
    "# Class"
   ]
  },
  {
   "attachments": {},
   "cell_type": "markdown",
   "metadata": {},
   "source": [
    "- Sınıflar veya classlar objelerimizi oluştururken objelerinn özeliklerini ve metodlarını tanımladığımız bir yapıdır"
   ]
  },
  {
   "cell_type": "code",
   "execution_count": 3,
   "metadata": {},
   "outputs": [],
   "source": [
    "class Araba():\n",
    "    # Sınıf Özellikleri(Attribute)\n",
    "    model =\"Renault Megane\"\n",
    "    renk = \"Gümüş\"\n",
    "    beygirGucu = 110\n",
    "    Silindir = 4\n"
   ]
  },
  {
   "attachments": {},
   "cell_type": "markdown",
   "metadata": {},
   "source": [
    "Obje oluşturma\n",
    "\n",
    "**obje_ismi = Sınıf_İsmi(parametreler(opsiyon))**\n",
    "\n",
    "Özeliklere Erişme\n",
    "\n",
    "**obje_ismi.özellik_ismi**"
   ]
  },
  {
   "cell_type": "code",
   "execution_count": 5,
   "metadata": {},
   "outputs": [
    {
     "name": "stdout",
     "output_type": "stream",
     "text": [
      "Renault Megane\n",
      "Gümüş\n",
      "110\n",
      "4\n"
     ]
    }
   ],
   "source": [
    "araba1 = Araba()\n",
    "print(araba1.model)\n",
    "print(araba1.renk)\n",
    "print(araba1.beygirGucu)\n",
    "print(araba1.Silindir)"
   ]
  },
  {
   "cell_type": "code",
   "execution_count": 6,
   "metadata": {},
   "outputs": [
    {
     "name": "stdout",
     "output_type": "stream",
     "text": [
      "Kuş\n"
     ]
    }
   ],
   "source": [
    "class Animal :\n",
    "    name =\"Kuş\"\n",
    "    print(name)"
   ]
  },
  {
   "attachments": {},
   "cell_type": "markdown",
   "metadata": {},
   "source": [
    "# init()"
   ]
  },
  {
   "attachments": {},
   "cell_type": "markdown",
   "metadata": {},
   "source": [
    "Pythonda yapıcı(constructor) fonksiyon olarak tanımlanmaktadır. Bu metod objelerimiz oluşturulurken otomatik olarak ilk cağrılan fonksiyondur. Bu metod özel olarak tanımlayarak objelerimizi farklı değerler oluşturabiliriz."
   ]
  },
  {
   "cell_type": "code",
   "execution_count": 7,
   "metadata": {},
   "outputs": [
    {
     "name": "stdout",
     "output_type": "stream",
     "text": [
      "İnit fonksiyonunu çalıştır\n"
     ]
    }
   ],
   "source": [
    "class Araba():\n",
    "    def __init__(self):\n",
    "        print(\"İnit fonksiyonunu çalıştır\")\n",
    "\n",
    "araba = Araba()"
   ]
  },
  {
   "attachments": {},
   "cell_type": "markdown",
   "metadata": {},
   "source": [
    "# İnit Fonksiyonu Çalıştır\n",
    "\n",
    "self anahtar kelimesi objeyi oluşturduğumuz zaman o objeyi gösteren bir referanstır ve metodlarımızda en başta bulunması gereken bir parametredir"
   ]
  },
  {
   "cell_type": "code",
   "execution_count": 2,
   "metadata": {},
   "outputs": [],
   "source": [
    "class Araba():\n",
    "    def __init__(self,model,renk,beygir,silindir):\n",
    "        self.model = model\n",
    "        self.renk = renk\n",
    "        self.beygir_gucu = beygir\n",
    "        self.silindir = silindir\n",
    "        "
   ]
  },
  {
   "cell_type": "code",
   "execution_count": 3,
   "metadata": {},
   "outputs": [
    {
     "name": "stdout",
     "output_type": "stream",
     "text": [
      "Peugeotgeot 301\n",
      "4\n"
     ]
    }
   ],
   "source": [
    "araba2 = Araba(\"Peugeotgeot 301\",\"Beyaz\",98,4)\n",
    "print(araba2.model)\n",
    "print(araba2.silindir)"
   ]
  },
  {
   "attachments": {},
   "cell_type": "markdown",
   "metadata": {},
   "source": [
    "# Uygulama\n",
    "- Comment isminde bir sınıf oluşturunuz.\n",
    "- Comment sınıfı username, text, likes, dislike isminde özelliklere sahip olsun\n",
    "- 5 adet farklı comment oluşturup döngü yardımıyla yorumları ekrana yazdırınız"
   ]
  },
  {
   "cell_type": "code",
   "execution_count": 10,
   "metadata": {},
   "outputs": [
    {
     "name": "stdout",
     "output_type": "stream",
     "text": [
      "Berkcan : Python öğreniyorum yorumunu yapıp 45 beğeni aldı. 1 dislike aldı\n",
      "Ahmet : Jumperlar çok güzel çalışıyorlar yorumunu yapıp 58 beğeni aldı. 18 dislike aldı\n",
      "Emirhan : Bu seneki jumperlar çok başarılı yorumunu yapıp 100 beğeni aldı. 5 dislike aldı\n",
      "Eslem : Liderler ekibi bir harika yorumunu yapıp 50 beğeni aldı. 1 dislike aldı\n",
      "Jumper : Liderlerimiz bizi  iÇım çok çalışıyorlarlar yorumunu yapıp 200 beğeni aldı. 100 dislike aldı\n"
     ]
    }
   ],
   "source": [
    "class Comment:\n",
    "    def __init__(self, username, text, likes, dislake):\n",
    "        self.username = username\n",
    "        self.text = text\n",
    "        self.like = likes\n",
    "        self.dislike = dislake\n",
    "\n",
    "c1 = Comment(\"Berkcan\",\"Python öğreniyorum\",45,1)\n",
    "c2 = Comment(\"Ahmet\", \"Jumperlar çok güzel çalışıyorlar\",58,18)\n",
    "c3 = Comment(\"Emirhan\",\"Bu seneki jumperlar çok başarılı\",100,5)\n",
    "c4 = Comment(\"Eslem\",\"Liderler ekibi bir harika\",50,1)\n",
    "c5 = Comment(\"Jumper\",\"Liderlerimiz bizi  iÇım çok çalışıyorlarlar\",200,100)\n",
    "\n",
    "Comments = [c1,c2,c3,c4,c5]\n",
    "\n",
    "for c in Comments:\n",
    "   print(f\"{c.username} : {c.text} yorumunu yapıp {c.like} beğeni aldı. {c.dislike} dislike aldı\")\n"
   ]
  }
 ],
 "metadata": {
  "kernelspec": {
   "display_name": "Python 3",
   "language": "python",
   "name": "python3"
  },
  "language_info": {
   "codemirror_mode": {
    "name": "ipython",
    "version": 3
   },
   "file_extension": ".py",
   "mimetype": "text/x-python",
   "name": "python",
   "nbconvert_exporter": "python",
   "pygments_lexer": "ipython3",
   "version": "3.11.1"
  },
  "orig_nbformat": 4
 },
 "nbformat": 4,
 "nbformat_minor": 2
}
