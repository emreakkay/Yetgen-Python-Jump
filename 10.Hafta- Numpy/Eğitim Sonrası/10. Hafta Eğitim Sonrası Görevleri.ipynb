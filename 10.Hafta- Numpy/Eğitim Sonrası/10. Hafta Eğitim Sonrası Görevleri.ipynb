{
 "cells": [
  {
   "attachments": {},
   "cell_type": "markdown",
   "metadata": {},
   "source": [
    "# Problem 1 "
   ]
  },
  {
   "cell_type": "code",
   "execution_count": 1,
   "metadata": {},
   "outputs": [
    {
     "name": "stdout",
     "output_type": "stream",
     "text": [
      "[12 32 55 76 99]\n"
     ]
    }
   ],
   "source": [
    "# 1 - numpy kütüphanesini import edin\n",
    "import numpy as np\n",
    "# 2 - 5 elemanlı bir numpy array oluşturun\n",
    "array = np.array([32,55,76,12,99])\n",
    "# 3 - Oluşturduğunuz arrayi küçükten büyüğe sıralayın.\n",
    "print(np.sort(array))"
   ]
  },
  {
   "attachments": {},
   "cell_type": "markdown",
   "metadata": {},
   "source": [
    "# Problem 2"
   ]
  },
  {
   "cell_type": "code",
   "execution_count": 3,
   "metadata": {},
   "outputs": [
    {
     "name": "stdout",
     "output_type": "stream",
     "text": [
      "[10 15 30 45 60]\n",
      "[ 5  6  7  8  9 10 11 12 13 14]\n",
      "[50 55 60 65 70 75 80 85 90 95]\n",
      "[0. 0. 0. 0. 0. 0. 0. 0. 0. 0.]\n",
      "[1. 1. 1. 1. 1. 1. 1. 1. 1. 1.]\n",
      "[  0.  25.  50.  75. 100.]\n",
      "[29 13 21 11 26]\n",
      "[ 0.17795158 -0.60817815  0.0253929   0.83578213  0.8403352  -0.48564079\n",
      "  0.10234833 -0.43932499 -0.17390665 -0.60306216]\n",
      "[[35 12 24 18 22]\n",
      " [23 16 32 31 37]\n",
      " [11 15 37 32 13]]\n",
      "***************\n",
      "[[13 18 44 32 20]\n",
      " [19 30 27 20 17]\n",
      " [30 46 22 10 40]]\n",
      "[62 94 93 62 77]\n",
      "[127 113 148]\n",
      "***************\n"
     ]
    }
   ],
   "source": [
    "# 1- (10,15,30,45,60) değerlerine sahip numpy dizisi oluşturunuz.\n",
    "sayi = np.array([10,15,30,45,60])\n",
    "print(sayi)\n",
    "print(\"*\"*15)\n",
    "# 2- (5-15) arasındaki sayılarla numpy dizisi oluşturunuz.\n",
    "arasayi = np.arange(5,15)\n",
    "print(arasayi)\n",
    "print(\"*\"*15)\n",
    "# 3- (50-100) arasında 5'er 5'er artarak numpy dizisi oluşturunuz.\n",
    "beserbeser = np.arange(50,100,5)\n",
    "print(beserbeser)\n",
    "print(\"*\"*15)\n",
    "# 4- 10 elemanlı sıfırlardan oluşan bir dizi oluşturunuz.\n",
    "sayilarsifir= np.zeros(10)\n",
    "print(sayilarsifir)\n",
    "print(\"*\"*15)\n",
    "# 5- 10 elemanlı birlerden oluşan bir dizi oluşturunuz.\n",
    "sayilar1 =np.ones(10)\n",
    "print(sayilar1)\n",
    "print(\"*\"*15)\n",
    "# 6- (0-100) arasında eşit aralıklı 5 sayı üretin.\n",
    "aralikli = np.linspace(0,100,5)\n",
    "print(aralikli)\n",
    "print(\"*\"*15)\n",
    "# 7- (10-30) arasında rastgele 5 tane tamsayı üretin.\n",
    "rasgele = np.random.randint(10,31, size= 5)\n",
    "print(rasgele)\n",
    "print(\"*\"*15)\n",
    "# 8- [-1 ile 1] arasında 10 adet sayı üretin.\n",
    "eksi = np.random.uniform(-1,1, size=10)\n",
    "print(eksi)\n",
    "print(\"*\"*15)\n",
    "# 9- (3x5) boyutlarında (10-50) arasında rastgele bir matris oluşturunuz.\n",
    "matrix = np.random.randint(10,50,size=(3,5))\n",
    "print(matrix)\n",
    "print(\"*\"*15)\n",
    "# 10- Üretilen matrisin satır ve sütun sayıları toplamlarını hesaplayınız ?\n",
    "matrix = np.random.randint(10,50,size=(3,5))\n",
    "print(matrix)\n",
    "print(matrix.sum(axis=0))\n",
    "print(matrix.sum(axis=1))\n",
    "print(\"*\"*15)"
   ]
  },
  {
   "cell_type": "code",
   "execution_count": 4,
   "metadata": {},
   "outputs": [
    {
     "name": "stdout",
     "output_type": "stream",
     "text": [
      "[[23 24 44 47 33]\n",
      " [22 18 41 21 35]\n",
      " [31 16 14 15 36]]\n",
      "47\n",
      "14\n",
      "28.0\n",
      "***************\n",
      "[[41 19 27 43 31]\n",
      " [22 29 29 37 15]\n",
      " [18 33 39 41 15]]\n",
      "3\n",
      "***************\n",
      "[18 17 18]\n",
      "***************\n",
      "[18 11 12 18 16 18 17 18]\n",
      "***************\n",
      "[41 19 27 43 31]\n",
      "***************\n",
      "29\n",
      "***************\n",
      "[41 22 18]\n",
      "[[1681  361  729 1849  961]\n",
      " [ 484  841  841 1369  225]\n",
      " [ 324 1089 1521 1681  225]]\n",
      "[[False False False False  True]\n",
      " [False  True  True  True False]\n",
      " [False  True  True False False]]\n"
     ]
    }
   ],
   "source": [
    "# 11- Üretilen matrisin en büyük, en küçük ve ortalaması nedir ?\n",
    "matrix = np.random.randint(10,50,size=(3,5))\n",
    "print(matrix)\n",
    "print(matrix.max())\n",
    "print(matrix.min())\n",
    "print(matrix.mean())\n",
    "print(\"*\"*15)\n",
    "# 12- Üretilen matrisin en büyük değerinin indeksi kaçtır ?\n",
    "matrix = np.random.randint(10,50,size=(3,5))\n",
    "print(matrix)\n",
    "print(matrix.argmax())\n",
    "print(\"*\"*15)\n",
    "\n",
    "# 13- (10-20) arasındaki sayıları içeren dizinin ilk 3 elemanını seçiniz.\n",
    "aralik = np.random.randint(10,20, size=8)\n",
    "print(aralik[:3])\n",
    "print(\"*\"*15)\n",
    "# 14- Üretilen dizinin elemanlarını tersten yazdırın.\n",
    "print(aralik[::-1])\n",
    "print(\"*\"*15)\n",
    "# 15- Üretilen matrisin ilk satırını seçiniz.\n",
    "print(matrix[0])\n",
    "print(\"*\"*15)\n",
    "# 16- Üretilen matrisin 2.satır 3.sütundaki elemanı hangisidir ?\n",
    "print(matrix[1,2])\n",
    "print(\"*\"*15)\n",
    "# 17- Üretilen matrisin tüm satırlardaki ilk elemanı seçiniz.\n",
    "print(matrix[:,0])\n",
    "print(\"*\"*15)\n",
    "# 18- Üretilen matrisin her bir elemanının karesini alınız.\n",
    "print(matrix**2)\n",
    "print(\"*\"*15)\n",
    "# 19- Üretilen matris elemanlarının hangisi pozitif çift sayıdır ? Aralığı (-50,+50) arasında yapınız.\n",
    "matrix2 = np.random.randint(-50,50,size=(3,5))\n",
    "print((matrix2 >0) & (matrix2 % 2 ==0))"
   ]
  }
 ],
 "metadata": {
  "kernelspec": {
   "display_name": "Python 3",
   "language": "python",
   "name": "python3"
  },
  "language_info": {
   "codemirror_mode": {
    "name": "ipython",
    "version": 3
   },
   "file_extension": ".py",
   "mimetype": "text/x-python",
   "name": "python",
   "nbconvert_exporter": "python",
   "pygments_lexer": "ipython3",
   "version": "3.11.1"
  },
  "orig_nbformat": 4,
  "vscode": {
   "interpreter": {
    "hash": "5026d2d6e7aaaaba093def813beadff083d8733e4a511af01735cbabd156995d"
   }
  }
 },
 "nbformat": 4,
 "nbformat_minor": 2
}
