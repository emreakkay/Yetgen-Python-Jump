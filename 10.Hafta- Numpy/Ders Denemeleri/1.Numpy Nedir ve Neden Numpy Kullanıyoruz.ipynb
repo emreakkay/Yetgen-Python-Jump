{
 "cells": [
  {
   "attachments": {},
   "cell_type": "markdown",
   "metadata": {},
   "source": [
    "# Numpy"
   ]
  },
  {
   "attachments": {},
   "cell_type": "markdown",
   "metadata": {},
   "source": [
    "- Numpy sayısal işlemleri hılı yapmak için C dili ile yazılmış bir Python kütüphanesidir.\n",
    "- Veri analizinde kullanılır.\n",
    "- Bilgisayara kurmak için 'pip insall numpy' komutu ile kurulur\n",
    "- Bilimsel hesaplamalar için kullanılır\n",
    "- Arraylar / çok boyutlu arrayler ve matrisler üzerinde yüksek performans işlemleri yapılabilir\n",
    "- Temelleri 1995 yılında atıldı. Ama nihai olarak 2005 yılında Travis Oliphant tarafından hayata geçirildi\n",
    "- Listelere benzerdir. Fakat verimli saklama ve vektör işlemleri için Numpy kullanılır"
   ]
  },
  {
   "attachments": {},
   "cell_type": "markdown",
   "metadata": {},
   "source": [
    "# Neden Numpy"
   ]
  },
  {
   "cell_type": "code",
   "execution_count": 3,
   "metadata": {},
   "outputs": [
    {
     "name": "stdout",
     "output_type": "stream",
     "text": [
      "[2, 6, 12, 20]\n"
     ]
    }
   ],
   "source": [
    "# Klasik Yöntem\n",
    "a = [1,2,3,4]\n",
    "b = [2,3,4,5]\n",
    "ab = []\n",
    "for i in range(0,len(a)):\n",
    "    ab.append(a[i]* b[i])\n",
    "print(ab)"
   ]
  },
  {
   "cell_type": "code",
   "execution_count": 1,
   "metadata": {},
   "outputs": [
    {
     "name": "stdout",
     "output_type": "stream",
     "text": [
      "[ 2  6 12 20]\n"
     ]
    }
   ],
   "source": [
    "# Numpy ile\n",
    "import numpy as np\n",
    "a = np.array([1,2,3,4])\n",
    "b = np.array([2,3,4,5])\n",
    "print(a*b)\n",
    "\n"
   ]
  },
  {
   "attachments": {},
   "cell_type": "markdown",
   "metadata": {},
   "source": [
    ".reshape() fonksiyonu ile arrayleri boyutlarını değiştirebiliriz."
   ]
  },
  {
   "cell_type": "code",
   "execution_count": 2,
   "metadata": {},
   "outputs": [
    {
     "name": "stdout",
     "output_type": "stream",
     "text": [
      "[[1 2 3]\n",
      " [4 5 6]\n",
      " [7 8 9]]\n"
     ]
    }
   ],
   "source": [
    "x = np.array([1,2,3,4,5,6,7,8,9])\n",
    "multi = x.reshape(3,3)\n",
    "print(multi)"
   ]
  },
  {
   "attachments": {},
   "cell_type": "markdown",
   "metadata": {},
   "source": [
    ".shape() ile arraylerın boyutlarını öğrenebiliriz."
   ]
  },
  {
   "cell_type": "code",
   "execution_count": 8,
   "metadata": {},
   "outputs": [
    {
     "name": "stdout",
     "output_type": "stream",
     "text": [
      "(3, 3)\n"
     ]
    }
   ],
   "source": [
    "print(multi.shape)"
   ]
  },
  {
   "cell_type": "code",
   "execution_count": 9,
   "metadata": {},
   "outputs": [
    {
     "name": "stdout",
     "output_type": "stream",
     "text": [
      "(9,)\n"
     ]
    }
   ],
   "source": [
    "print(x.shape)"
   ]
  },
  {
   "attachments": {},
   "cell_type": "markdown",
   "metadata": {},
   "source": [
    ".ndim() ile arraylerin boyut sayısı."
   ]
  },
  {
   "cell_type": "code",
   "execution_count": 11,
   "metadata": {},
   "outputs": [
    {
     "name": "stdout",
     "output_type": "stream",
     "text": [
      "1\n"
     ]
    }
   ],
   "source": [
    "print(x.ndim)"
   ]
  },
  {
   "cell_type": "code",
   "execution_count": 12,
   "metadata": {},
   "outputs": [
    {
     "name": "stdout",
     "output_type": "stream",
     "text": [
      "2\n"
     ]
    }
   ],
   "source": [
    "print(multi.ndim)"
   ]
  }
 ],
 "metadata": {
  "kernelspec": {
   "display_name": "Python 3",
   "language": "python",
   "name": "python3"
  },
  "language_info": {
   "codemirror_mode": {
    "name": "ipython",
    "version": 3
   },
   "file_extension": ".py",
   "mimetype": "text/x-python",
   "name": "python",
   "nbconvert_exporter": "python",
   "pygments_lexer": "ipython3",
   "version": "3.11.1"
  },
  "orig_nbformat": 4
 },
 "nbformat": 4,
 "nbformat_minor": 2
}
