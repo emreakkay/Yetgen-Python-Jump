{
 "cells": [
  {
   "attachments": {},
   "cell_type": "markdown",
   "metadata": {},
   "source": [
    "# Problem 1"
   ]
  },
  {
   "cell_type": "code",
   "execution_count": 1,
   "metadata": {},
   "outputs": [
    {
     "name": "stdout",
     "output_type": "stream",
     "text": [
      "[2 9 2 1 7]\n",
      "(4,)\n",
      "[[1 2]\n",
      " [3 4]]\n",
      "1\n"
     ]
    }
   ],
   "source": [
    "# 1 - numpy kütüphanesini import edin\n",
    "import numpy as np\n",
    "# 2 - 0 ile 10 arasında 5 sayıdan oluşan matris üretin\n",
    "Karisik = np.random.randint(0,10,5)\n",
    "print(Karisik)\n",
    "# 3 - matris'in boyutunu öğrenin\n",
    "x = np.array([1,2,3,4])\n",
    "print(x.shape)\n",
    "# 4 - matris'i yeniden boyutlandırın\n",
    "print(x.reshape(2,2))\n",
    "# 5 - matris'in boyut sayısını öğrenin\n",
    "print(x.ndim)\n"
   ]
  },
  {
   "attachments": {},
   "cell_type": "markdown",
   "metadata": {},
   "source": [
    "# Problem 2"
   ]
  },
  {
   "cell_type": "code",
   "execution_count": 10,
   "metadata": {},
   "outputs": [
    {
     "name": "stdout",
     "output_type": "stream",
     "text": [
      "[1 3 5 7 9]\n",
      "[1 3] * [5 7 9]\n",
      "[1 3 5 7 9]\n"
     ]
    }
   ],
   "source": [
    "# 1 - 0 ile 10 arasında bulunan tek sayılardan oluşan matris üretin\n",
    "teksayi= np.arange(1,11,2)\n",
    "print(teksayi)\n",
    "# 2 - Oluşturduğunuz matrisi parçalayın\n",
    "a,b = np.split(teksayi,[2])\n",
    "print(a,\"*\",b)\n",
    "# 3 - Parçalanmış matrisleri birleştirin\n",
    "birlesme = np.concatenate([a,b])\n",
    "print(birlesme)"
   ]
  },
  {
   "attachments": {},
   "cell_type": "markdown",
   "metadata": {},
   "source": [
    "# Problem 3"
   ]
  },
  {
   "cell_type": "code",
   "execution_count": 20,
   "metadata": {},
   "outputs": [
    {
     "name": "stdout",
     "output_type": "stream",
     "text": [
      "[[27 41]\n",
      " [77 13]\n",
      " [69 39]\n",
      " [67 99]\n",
      " [17 91]]\n",
      "2\n",
      "(5, 2)\n",
      "10\n",
      "int32\n"
     ]
    }
   ],
   "source": [
    "# 1 - 5 ile 100 arasında ikişer ikişer atlayarak rastgele 10 sayıdan oluşan matris üretin\n",
    "rastgale = np.arange(5,101,2)\n",
    "\n",
    "np.random.shuffle(rastgale)\n",
    "\n",
    "sayi= rastgale[:10].reshape(5, 2)\n",
    "print(sayi)\n",
    "# 2 - matris'in özelliklerini inceleyin\n",
    "print(sayi.ndim) # Boyut sayisi\n",
    "print(sayi.shape) # Boyut bilgisi\n",
    "print(sayi.size) # Toplam eleman sayisi\n",
    "print(sayi.dtype) # Veri tipi\n"
   ]
  }
 ],
 "metadata": {
  "kernelspec": {
   "display_name": "Python 3",
   "language": "python",
   "name": "python3"
  },
  "language_info": {
   "codemirror_mode": {
    "name": "ipython",
    "version": 3
   },
   "file_extension": ".py",
   "mimetype": "text/x-python",
   "name": "python",
   "nbconvert_exporter": "python",
   "pygments_lexer": "ipython3",
   "version": "3.11.1"
  },
  "orig_nbformat": 4,
  "vscode": {
   "interpreter": {
    "hash": "5026d2d6e7aaaaba093def813beadff083d8733e4a511af01735cbabd156995d"
   }
  }
 },
 "nbformat": 4,
 "nbformat_minor": 2
}
