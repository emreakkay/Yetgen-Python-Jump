{
 "cells": [
  {
   "attachments": {},
   "cell_type": "markdown",
   "metadata": {},
   "source": [
    "# Return"
   ]
  },
  {
   "attachments": {},
   "cell_type": "markdown",
   "metadata": {},
   "source": [
    "- Kodun tamamında kullanmak için işlevi kodu tamaladıktan sonra kalan değeri(sonuç değeri) döndürür.\n",
    "- 'return' anahtar sözcügünden sonraki kodlar yürütülmez. Bu görmezden gelindikleri analmına gelir\n",
    "- return yardımıyla fonksiyonlar değerleri çağrıldığı yere döndürülebilir ve biz de bu değerleri istediğimiz yerde kullanabiliriz"
   ]
  },
  {
   "cell_type": "code",
   "execution_count": 1,
   "metadata": {},
   "outputs": [
    {
     "name": "stdout",
     "output_type": "stream",
     "text": [
      "2.5\n"
     ]
    }
   ],
   "source": [
    "def dikucgenAlanHesaplama(a,b):\n",
    "    return ( a * b )/2\n",
    "alan = dikucgenAlanHesaplama(2,3)\n",
    "print(alan)\n"
   ]
  },
  {
   "attachments": {},
   "cell_type": "markdown",
   "metadata": {},
   "source": [
    "# *args"
   ]
  },
  {
   "attachments": {},
   "cell_type": "markdown",
   "metadata": {},
   "source": [
    "- Sınırsız sayıda parametreli fonksiyon oluşturmak için parametremiz önüne tek yıldır (*) koyabiliriz.\n",
    "- İsimsiz argumanlardır"
   ]
  },
  {
   "cell_type": "code",
   "execution_count": 3,
   "metadata": {},
   "outputs": [
    {
     "name": "stdout",
     "output_type": "stream",
     "text": [
      "(4,)\n",
      "(4, 5, 6, 7, 8, 9, 10)\n"
     ]
    }
   ],
   "source": [
    "def sayilar(*x):\n",
    "    print(x)\n",
    "sayilar(4)\n",
    "sayilar(4,5,6,7,8,9,10)"
   ]
  },
  {
   "cell_type": "code",
   "execution_count": 5,
   "metadata": {},
   "outputs": [
    {
     "name": "stdout",
     "output_type": "stream",
     "text": [
      "55\n"
     ]
    }
   ],
   "source": [
    "def topla(*x):\n",
    "    toplam = 0\n",
    "    for i in x:\n",
    "        toplam += i #toplam = toplam+1\n",
    "    print(toplam)\n",
    "topla(1,2,3,4,5,6,7,8,9,10)"
   ]
  },
  {
   "attachments": {},
   "cell_type": "markdown",
   "metadata": {},
   "source": [
    "# **kwargs"
   ]
  },
  {
   "attachments": {},
   "cell_type": "markdown",
   "metadata": {},
   "source": [
    "- Çift yıldızlı(**) parametrelerin tek yıldızlı (*) parametrelerden en önemli farkı, fonksiyon çağırıken anahtar değeri ilişkisiyle çağırabilmemeizdir.\n",
    "- İsimli argümanlardır"
   ]
  },
  {
   "cell_type": "code",
   "execution_count": 6,
   "metadata": {},
   "outputs": [
    {
     "name": "stdout",
     "output_type": "stream",
     "text": [
      "{'adi': 'Berkcan', 'soyadi': 'Gümüşışık', 'yas': 22}\n"
     ]
    }
   ],
   "source": [
    "def kimlikGoster(**kimlik):\n",
    "    print(kimlik)\n",
    "kimlikGoster(adi = \"Berkcan\", soyadi= \"Gümüşışık\", yas= 22)"
   ]
  },
  {
   "cell_type": "code",
   "execution_count": 7,
   "metadata": {},
   "outputs": [
    {
     "name": "stdout",
     "output_type": "stream",
     "text": [
      "10\n",
      "(20, 30, 40, 50)\n",
      "6\n",
      "{'adi': 'Berkcan', 'soyadi': 'Gümüşışık', 'yas': 22}\n"
     ]
    }
   ],
   "source": [
    "def ornek(a, *sayilar, b, **kimlik):\n",
    "    print(a)\n",
    "    print(sayilar)\n",
    "    print(b)\n",
    "    print(kimlik)\n",
    "ornek(10, 20,30,40,50,b=6,adi = \"Berkcan\", soyadi= \"Gümüşışık\", yas= 22)"
   ]
  },
  {
   "attachments": {},
   "cell_type": "markdown",
   "metadata": {},
   "source": [
    "# Pass Deneyimi"
   ]
  },
  {
   "attachments": {},
   "cell_type": "markdown",
   "metadata": {},
   "source": [
    "- Python programlanmasında pass ifadesi null değeri atama için kullanılır. Python daki bir açıklama ve geçiş ifadesi arasındaki fark, yorumlayı bir yorum tamamen yok sayılırken, geçiş göz ardı edilmemesidir."
   ]
  },
  {
   "cell_type": "code",
   "execution_count": 10,
   "metadata": {},
   "outputs": [],
   "source": [
    "def carp(*sayilar):\n",
    "    for sayi in sayilar:\n",
    "        pass\n",
    "carp(2.5)"
   ]
  },
  {
   "cell_type": "code",
   "execution_count": null,
   "metadata": {},
   "outputs": [],
   "source": []
  }
 ],
 "metadata": {
  "kernelspec": {
   "display_name": "Python 3",
   "language": "python",
   "name": "python3"
  },
  "language_info": {
   "codemirror_mode": {
    "name": "ipython",
    "version": 3
   },
   "file_extension": ".py",
   "mimetype": "text/x-python",
   "name": "python",
   "nbconvert_exporter": "python",
   "pygments_lexer": "ipython3",
   "version": "3.11.1"
  },
  "orig_nbformat": 4
 },
 "nbformat": 4,
 "nbformat_minor": 2
}
