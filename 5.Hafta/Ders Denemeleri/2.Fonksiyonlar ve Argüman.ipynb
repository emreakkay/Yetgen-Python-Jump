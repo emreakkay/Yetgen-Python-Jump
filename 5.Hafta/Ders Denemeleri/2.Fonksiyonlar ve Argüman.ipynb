{
 "cells": [
  {
   "attachments": {},
   "cell_type": "markdown",
   "metadata": {},
   "source": [
    "## Fonksiyonlar"
   ]
  },
  {
   "attachments": {},
   "cell_type": "markdown",
   "metadata": {},
   "source": [
    "- Bir koud bir çok yerde kullanmanız gerekiyorsa, her yerde tekrar tekrar yazmayı önler. Programlamanın temeli:DRY(Don't repeat Yourself-Kendini tekrar etme)\n",
    "- Fonksiyonların içindeki değişkenler yereldir, yani bir fonksiyon içinde bir değişken tanımladığınızda, o değişkeni fonksiyonun dışında çağıramayız. Çünkü o değişken o fonksiyona özeldir ve globalde kullanılmaz\n",
    "- Ne zaman bir fonksiyon çağırılırsa, fonksiyonu yazdıktan sonra yapmalısınız.\n",
    "- Fonksiyon tanımlamanın yapısı şudur \n",
    "\n",
    "\n",
    "```def fonksiyon_adı(Parametre1,Parametre2....(opsiyonel)):```\n",
    "  - Fonksiyon bloğu\n",
    "  - Fonksiyon bloğu\n",
    "  - Yapılacak işlem\n",
    "  - Dönüş değeri - Opsiyonel\n",
    "\n",
    "- Tanımlanan  bir fonksiyonun kullanılması programa dillerinde Fonksiyon çağrısı denir."
   ]
  },
  {
   "cell_type": "code",
   "execution_count": 2,
   "metadata": {},
   "outputs": [],
   "source": [
    "def selamlar():\n",
    "    print(\"Selamlar\")"
   ]
  },
  {
   "cell_type": "code",
   "execution_count": 3,
   "metadata": {},
   "outputs": [
    {
     "name": "stdout",
     "output_type": "stream",
     "text": [
      "Selamlar\n"
     ]
    }
   ],
   "source": [
    "selamlar()"
   ]
  },
  {
   "attachments": {},
   "cell_type": "markdown",
   "metadata": {},
   "source": [
    "# Arguman\n",
    "- İşlev çağrılırkne parantez içindeki işlevlere iletilen değerler (string,num,vb)(örn. islev_adı(arguman))\n",
    "- Eğer fonksiyon çağrılırken bir arğuman yoksa, bu argumanı değeri none olucaktır. Bu nedenşe fonksiyonun içinde ifade edilecek bir değer yoksa, belirlenen değeri kullanılmalıdır.\n",
    "\n",
    "```def Helloworld(name = \"Emre\")```\n",
    "    print(\"Merhaba\", name)\n",
    "\n",
    "- Birden fazla parametre olabilir. Her biri virgülle ayrılır\n",
    "\n"
   ]
  },
  {
   "cell_type": "code",
   "execution_count": 6,
   "metadata": {},
   "outputs": [
    {
     "name": "stdout",
     "output_type": "stream",
     "text": [
      "Merhaba Ziyaretci\n",
      "Merhaba Berkcan\n"
     ]
    }
   ],
   "source": [
    "def helloworld(name = \"Ziyaretci\"):\n",
    "    print(\"Merhaba\", name)\n",
    "helloworld()\n",
    "helloworld(\"Berkcan\")"
   ]
  },
  {
   "cell_type": "code",
   "execution_count": 8,
   "metadata": {},
   "outputs": [],
   "source": [
    "def Topla(Sayi1,sayi2,sayi3):\n",
    "    Topla = Sayi1+sayi2+sayi3\n",
    "    print(Topla)"
   ]
  },
  {
   "cell_type": "code",
   "execution_count": 9,
   "metadata": {},
   "outputs": [
    {
     "name": "stdout",
     "output_type": "stream",
     "text": [
      "6\n"
     ]
    }
   ],
   "source": [
    "Topla(1,2,3,)"
   ]
  },
  {
   "cell_type": "code",
   "execution_count": 14,
   "metadata": {},
   "outputs": [],
   "source": [
    "def Merhaba(name = \"Berkcan\", Surname =\"Gumusisik\"):\n",
    "    print(\"Sisteme hosgedin \"+ name+\" \"+ Surname)"
   ]
  },
  {
   "cell_type": "code",
   "execution_count": 17,
   "metadata": {},
   "outputs": [
    {
     "name": "stdout",
     "output_type": "stream",
     "text": [
      "Sisteme hosgedin Berkcan Gumusisik\n",
      "Sisteme hosgedin Ahmet Gumusisik\n",
      "Sisteme hosgedin Ahmet Akkaya\n"
     ]
    }
   ],
   "source": [
    "Merhaba()\n",
    "Merhaba(\"Ahmet\")\n",
    "Merhaba(\"Ahmet\",\"Akkaya\")"
   ]
  },
  {
   "cell_type": "code",
   "execution_count": 20,
   "metadata": {},
   "outputs": [
    {
     "name": "stdout",
     "output_type": "stream",
     "text": [
      "24\n",
      "6\n"
     ]
    }
   ],
   "source": [
    "def carp(sayi1 = 1, sayi2= 1 , sayi3=1):\n",
    "    c = sayi1*sayi2*sayi3\n",
    "    print(c)\n",
    "\n",
    "carp(2,3,4)\n",
    "carp(2,3,1)"
   ]
  },
  {
   "cell_type": "code",
   "execution_count": 22,
   "metadata": {},
   "outputs": [
    {
     "name": "stdout",
     "output_type": "stream",
     "text": [
      "Hola\n",
      "Bonjour\n",
      "Hello\n",
      "Merhaba\n"
     ]
    }
   ],
   "source": [
    "def Merhaba(dil):\n",
    "    if dil== \"es\":\n",
    "     print(\"Hola\")\n",
    "    elif dil== \"fr\":\n",
    "     print(\"Bonjour\")\n",
    "    elif dil==\"en\":\n",
    "      print(\"Hello\")\n",
    "    else:\n",
    "      print(\"Merhaba\")\n",
    "\n",
    "Merhaba(\"es\")\n",
    "Merhaba(\"fr\")\n",
    "Merhaba(\"en\")\n",
    "Merhaba(\"tr\")"
   ]
  },
  {
   "cell_type": "code",
   "execution_count": null,
   "metadata": {},
   "outputs": [],
   "source": []
  }
 ],
 "metadata": {
  "kernelspec": {
   "display_name": "Python 3",
   "language": "python",
   "name": "python3"
  },
  "language_info": {
   "codemirror_mode": {
    "name": "ipython",
    "version": 3
   },
   "file_extension": ".py",
   "mimetype": "text/x-python",
   "name": "python",
   "nbconvert_exporter": "python",
   "pygments_lexer": "ipython3",
   "version": "3.11.1"
  },
  "orig_nbformat": 4
 },
 "nbformat": 4,
 "nbformat_minor": 2
}
