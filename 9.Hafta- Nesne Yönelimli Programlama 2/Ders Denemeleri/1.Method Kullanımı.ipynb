{
 "cells": [
  {
   "attachments": {},
   "cell_type": "markdown",
   "metadata": {},
   "source": [
    "# Methotlar\n"
   ]
  },
  {
   "cell_type": "code",
   "execution_count": 31,
   "metadata": {},
   "outputs": [],
   "source": [
    "class Yazilimci():\n",
    "        def __init__(self,isim,soyisim,numara,maas,diller):\n",
    "         self.isim = isim\n",
    "         self.soyisim = soyisim\n",
    "         self.numara = numara\n",
    "         self.maas = maas\n",
    "         self.diller = diller\n",
    "        \n",
    "        def bilgileri_goster(self):\n",
    "         print(f\"\"\"\n",
    "          Çalışan bilgisi :\n",
    "           İsim : {self.isim}\n",
    "           Soyisim : {self.soyisim}\n",
    "           Numara : {self.numara}\n",
    "           Maas : {self.maas}\n",
    "           Diller : {self.diller}\n",
    "             \"\"\")\n",
    "    \n",
    "        def dilekle(self,yeni_dil):\n",
    "           print(\"Dil eklendi\")\n",
    "           self.diller.append(yeni_dil)\n",
    "\n",
    "        def maas_yukselt(self, zam):\n",
    "           print(f\"Maaş Yükseldi {zam}\")\n",
    "           self.maas += zam"
   ]
  },
  {
   "cell_type": "code",
   "execution_count": 32,
   "metadata": {},
   "outputs": [
    {
     "name": "stdout",
     "output_type": "stream",
     "text": [
      "\n",
      "    Çalışan bilgisi :\n",
      "        İsim : Emre\n",
      "        Soyisim : Akkaya\n",
      "        Numara : 256\n",
      "        Maas : 10000\n",
      "        Diller : ['Python', 'C#']\n",
      "        \n"
     ]
    }
   ],
   "source": [
    "yazilimci = Yazilimci(\"Emre\",\"Akkaya\",256,10000,[\"Python\",\"C#\"])\n",
    "\n",
    "bilgileri_goster(yazilimci)"
   ]
  },
  {
   "cell_type": "code",
   "execution_count": 33,
   "metadata": {},
   "outputs": [
    {
     "name": "stdout",
     "output_type": "stream",
     "text": [
      "Maaş Yükseldi 500\n"
     ]
    }
   ],
   "source": [
    "yazilimci.maas_yukselt(500)"
   ]
  },
  {
   "cell_type": "code",
   "execution_count": 35,
   "metadata": {},
   "outputs": [
    {
     "name": "stdout",
     "output_type": "stream",
     "text": [
      "Dil eklendi\n",
      "\n",
      "    Çalışan bilgisi :\n",
      "        İsim : Emre\n",
      "        Soyisim : Akkaya\n",
      "        Numara : 256\n",
      "        Maas : 10500\n",
      "        Diller : ['Python', 'C#', 'Java', 'Java']\n",
      "        \n"
     ]
    }
   ],
   "source": [
    "yazilimci.dilekle(\"Java\")\n",
    "bilgileri_goster(yazilimci)"
   ]
  },
  {
   "attachments": {},
   "cell_type": "markdown",
   "metadata": {},
   "source": [
    "# Inheritance"
   ]
  },
  {
   "attachments": {},
   "cell_type": "markdown",
   "metadata": {},
   "source": [
    "- Bu konsepti aslında bizim kendi anne babamızdan değişik özellikleri ve davranışları miraz almamıza benzetebiliriz\n",
    "- Bir sınıfın özelliklerini ve metodlarını başka sınıflara aktarılarak işlevinin artırılmasını sağlar\n",
    "- Mesela öğrenci ve öğretmen düşündüğümüzde zaman öğrencinin adı, soyadı ve numarası vardır. Öğretmeninse ad, soyad, adres, cinsiyet ve branşı vardır\n",
    "- Öğrenci ve öğretmen classında ise öğrenci ve öğretmen özğü özellikler ve metodlar tutulur\n",
    "- super() en genel anlamıyla miraz aldığımız sınıfın metodlarını alt sınıflardan kullamamızı sağlar\n",
    "- super().init() çalışırken sınıfın özelliklerini ve metodlarını kullanır\n",
    "- Base Class ana sınıftır.\n",
    "- Sub class base class'ın  özelliklerinin ve methodlarını kullanır.\n"
   ]
  },
  {
   "cell_type": "code",
   "execution_count": 56,
   "metadata": {},
   "outputs": [
    {
     "name": "stdout",
     "output_type": "stream",
     "text": [
      "Person nesnesi türetildi\n",
      "Emre Akkaya 23\n"
     ]
    }
   ],
   "source": [
    "class Person:\n",
    "    def __init__(self, name, surname, age):\n",
    "        self.name = name\n",
    "        self.surname = surname\n",
    "        self.age = age\n",
    "        print(\"Person nesnesi türetildi\")\n",
    "    def intro(self):\n",
    "        print(self.name, self.surname, self.age)\n",
    "\n",
    "class Student(Person):\n",
    "    def __init__(self, name, surname, age, number):\n",
    "        super(). __init__(name,surname,age)\n",
    "        self.number = number\n",
    "        print(\"Student nesneni çalıştı\")\n",
    "    \n",
    "    def intro(self):\n",
    "            print(self.name, self.surname, self.age, self.number )\n",
    "    \n",
    "    def study(self):\n",
    "            print(f\"{self.number} numaralı öğrenci ders çalışıyor\")\n",
    "\n",
    "class Teacher(Person):\n",
    "    def __init__(self,name , surname , age , branch):\n",
    "       super().__init__(name,surname,age)\n",
    "       self.branch = branch\n",
    "       print(f\"Teacher nesnes çalıştı\")\n",
    "    def teach(self):\n",
    "        print(f\"{self.name} isminde öğretmen {self.branch}'da ders anlatıyor\")\n",
    "\n",
    "\n",
    "\n",
    "ogrenci = Person(\"Emre\",\"Akkaya\",23)\n",
    "ogrenci.intro()\n",
    "\n"
   ]
  },
  {
   "cell_type": "code",
   "execution_count": 61,
   "metadata": {},
   "outputs": [
    {
     "name": "stdout",
     "output_type": "stream",
     "text": [
      "Person nesnesi türetildi\n",
      "Student nesneni çalıştı\n",
      "YetGen Jump 50 2001\n",
      "2001 numaralı öğrenci ders çalışıyor\n"
     ]
    }
   ],
   "source": [
    "s1 = Student(\"YetGen\",\"Jump\",50,2001)\n",
    "s1.intro()\n",
    "s1.study()"
   ]
  },
  {
   "cell_type": "code",
   "execution_count": 62,
   "metadata": {},
   "outputs": [
    {
     "name": "stdout",
     "output_type": "stream",
     "text": [
      "Person nesnesi türetildi\n",
      "Teacher nesnes çalıştı\n"
     ]
    },
    {
     "data": {
      "text/plain": [
       "<bound method Teacher.teach of <__main__.Teacher object at 0x000002B19977D2D0>>"
      ]
     },
     "execution_count": 62,
     "metadata": {},
     "output_type": "execute_result"
    }
   ],
   "source": [
    "t1 = Teacher(\"Ahmet\",\"Ahmet\",30,\"Bilgisayar\")\n",
    "t1.intro\n",
    "t1.teach"
   ]
  }
 ],
 "metadata": {
  "kernelspec": {
   "display_name": "Python 3",
   "language": "python",
   "name": "python3"
  },
  "language_info": {
   "codemirror_mode": {
    "name": "ipython",
    "version": 3
   },
   "file_extension": ".py",
   "mimetype": "text/x-python",
   "name": "python",
   "nbconvert_exporter": "python",
   "pygments_lexer": "ipython3",
   "version": "3.11.1"
  },
  "orig_nbformat": 4
 },
 "nbformat": 4,
 "nbformat_minor": 2
}
