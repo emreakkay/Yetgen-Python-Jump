{
 "cells": [
  {
   "attachments": {},
   "cell_type": "markdown",
   "metadata": {},
   "source": [
    "## Karar Yapilari"
   ]
  },
  {
   "attachments": {},
   "cell_type": "markdown",
   "metadata": {},
   "source": [
    "- Eğer if bloğu doğruysa diğer durumlara bakılmaz ve if bloğu altındaki kodlar çalışır.\n",
    "- Else yapısının kullanılması zorunlu değildir olsa da olur olmasada olur.\n",
    "- elif yapısının kullanılması zorunlu değildir olsa da olur olmasada olur.\n",
    "- else yapısı if ve varsa elif yapısının false olduğu durumda ikinci nihai durum olarak çalışır.\n",
    "- elif yapısına birden çok farklı koşullardan doğacak durumların kontrolünü sağlamak için kullanırız.\n",
    "\n"
   ]
  },
  {
   "attachments": {},
   "cell_type": "markdown",
   "metadata": {},
   "source": [
    "İF koşul:\n",
    " -koşul1 doğruysa çalışacak kodlar\n",
    "\n",
    "elif:\n",
    " - koşul2 doğruysa çalışacak kodlar\n",
    "\n",
    "else:\n",
    " -koşul ve koşul 2 yanlışşa çalışacak kodlar\n"
   ]
  },
  {
   "cell_type": "code",
   "execution_count": 2,
   "metadata": {},
   "outputs": [
    {
     "name": "stdout",
     "output_type": "stream",
     "text": [
      "If blogu çalışacaktır\n",
      "Program sonlandı\n"
     ]
    }
   ],
   "source": [
    "if 3 > 1:\n",
    "    print(\"If blogu çalışacaktır\")\n",
    "print(\"Program sonlandı\")"
   ]
  },
  {
   "cell_type": "code",
   "execution_count": 6,
   "metadata": {},
   "outputs": [
    {
     "name": "stdout",
     "output_type": "stream",
     "text": [
      "2.sayı, 1.sayıdan büyüktür\n"
     ]
    }
   ],
   "source": [
    "sayi1 = int(input(\"1.sayıyı giriniz :\"))\n",
    "sayi2 = int(input(\"2.Sayıyı giriniz :\"))\n",
    "if sayi1 >sayi2:\n",
    "    print(\"1.sayı, 2.sayıdan büyüktür.\")\n",
    "elif sayi1 == sayi2:\n",
    "    print(\"Sayılar birbirine eşittir.\")\n",
    "elif sayi1 < sayi2:\n",
    "    print(\"2.sayı, 1.sayıdan büyüktür\")   \n"
   ]
  },
  {
   "cell_type": "code",
   "execution_count": 8,
   "metadata": {},
   "outputs": [
    {
     "name": "stdout",
     "output_type": "stream",
     "text": [
      "Ironman'i seçtiniz\n"
     ]
    }
   ],
   "source": [
    "superkahraman = input(\"Bir super kahraman giriniz:\")\n",
    "if superkahraman == \"Batman\":\n",
    "    print(\"Batman'i seçtiniz\")\n",
    "elif superkahraman == \"Superman\":\n",
    "    print(\"Superman'i seçtiniz:\")\n",
    "elif superkahraman == \"Ironman\":\n",
    "    print(\"Ironman'i seçtiniz\")\n",
    "else:\n",
    "    print(\"Bizde böyle bir süper kahraman bulunmamktır.\")"
   ]
  },
  {
   "cell_type": "code",
   "execution_count": 9,
   "metadata": {},
   "outputs": [
    {
     "name": "stdout",
     "output_type": "stream",
     "text": [
      "10 sayısı 20 sayısından küçüktür ve 20 sayısı 30 sayısından küçüktür\n"
     ]
    }
   ],
   "source": [
    "a = 10\n",
    "b = 20\n",
    "c = 30\n",
    "if a > b and b > c:\n",
    "    print(f\"{a} sayısı {b} sayısından büyüktür ve {b} sayısı {c} sayısından büyütkür\")\n",
    "if a < b and b < c:\n",
    "    print(f\"{a} sayısı {b} sayısından küçüktür ve {b} sayısı {c} sayısından küçüktür\")\n",
    "else:\n",
    "    print(\"Bu koşullar tutmadı\")"
   ]
  },
  {
   "cell_type": "code",
   "execution_count": 11,
   "metadata": {},
   "outputs": [
    {
     "name": "stdout",
     "output_type": "stream",
     "text": [
      "Yetgen mezunusunuz . #YetGenBitmez diyerek YetGen'e Dikeylerle devam ediyorsunuz\n"
     ]
    }
   ],
   "source": [
    "yetgenMezunu = True\n",
    "if yetgenMezunu:\n",
    "    print(\"Yetgen mezunusunuz . #YetGenBitmez diyerek YetGen'e Dikeylerle devam ediyorsunuz\")\n",
    "else:\n",
    "    print(\"YetGen mezunu değilsin. Acilen YetGen'e katılmalısınız.\")\n",
    "    \n",
    "          "
   ]
  },
  {
   "cell_type": "code",
   "execution_count": 14,
   "metadata": {},
   "outputs": [
    {
     "name": "stdout",
     "output_type": "stream",
     "text": [
      "3.sayı 5'den büyüktür\n",
      "4.sayı 10'dan büyüktür:\n"
     ]
    }
   ],
   "source": [
    "sayi3 = 10\n",
    "sayi4 = 20\n",
    "if sayi3 > 5:\n",
    "    print(\"3.sayı 5'den büyüktür\")\n",
    "    if sayi4 > 10:\n",
    "        print(\"4.sayı 10'dan büyüktür:\")\n",
    "    else:\n",
    "        print(\"ikinci else\")\n",
    "else:\n",
    "    print(\"Birinci else\")\n",
    "              \n",
    "\n",
    "\n"
   ]
  },
  {
   "cell_type": "code",
   "execution_count": 16,
   "metadata": {},
   "outputs": [
    {
     "name": "stdout",
     "output_type": "stream",
     "text": [
      "Varmış\n"
     ]
    }
   ],
   "source": [
    "isim = \"Emre\"\n",
    "if \"Emre\" in isim:\n",
    "    print(\"Varmış\")\n",
    "else:\n",
    "    print(\"Yokmuş\")"
   ]
  },
  {
   "cell_type": "code",
   "execution_count": 18,
   "metadata": {},
   "outputs": [
    {
     "name": "stdout",
     "output_type": "stream",
     "text": [
      "32 sayısı çifttir.\n"
     ]
    }
   ],
   "source": [
    "sayi = int(input(\"Bir sayı giriniz:\"))\n",
    "if sayi % 2 ==0:\n",
    "    print(f\"{sayi} sayısı çifttir.\")\n",
    "else:\n",
    "    print(f\"{sayi} sayısı tektir\")\n",
    "    "
   ]
  }
 ],
 "metadata": {
  "kernelspec": {
   "display_name": "Python 3",
   "language": "python",
   "name": "python3"
  },
  "language_info": {
   "codemirror_mode": {
    "name": "ipython",
    "version": 3
   },
   "file_extension": ".py",
   "mimetype": "text/x-python",
   "name": "python",
   "nbconvert_exporter": "python",
   "pygments_lexer": "ipython3",
   "version": "3.11.1"
  },
  "orig_nbformat": 4
 },
 "nbformat": 4,
 "nbformat_minor": 2
}
