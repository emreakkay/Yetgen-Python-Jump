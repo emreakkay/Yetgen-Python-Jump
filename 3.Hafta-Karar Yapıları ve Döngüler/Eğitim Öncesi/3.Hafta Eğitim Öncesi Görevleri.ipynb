{
  "cells": [
    {
      "cell_type": "markdown",
      "metadata": {
        "id": "tsD4YVAe_Te2"
      },
      "source": [
        "# Problem 1\n",
        "Bir sayının 7'ye bölünebilir olup olmadığını kontrol etmek \n",
        "için bir program yazın.\n",
        "\n",
        "İpucu: Mod operatörünü (%) kullanabilirsiniz."
      ]
    },
    {
      "cell_type": "code",
      "execution_count": 2,
      "metadata": {
        "id": "NGjvNwKx_Te7"
      },
      "outputs": [
        {
          "name": "stdout",
          "output_type": "stream",
          "text": [
            "Sayı 7'ye bölünemiyor\n"
          ]
        }
      ],
      "source": [
        "# 1.Problemin Çözümünü Buraya Yazınız\n",
        "\n",
        "sayi = int(input(\"Bir sayı giriniz:\"))\n",
        "if ( sayi &7 ==0):\n",
        "    print(\"Sayı 7'ye bölünebiliyor\")\n",
        "else:\n",
        "    print(\"Sayı 7'ye bölünemiyor\")"
      ]
    },
    {
      "cell_type": "markdown",
      "metadata": {
        "id": "Kg3qiBAI_Te8"
      },
      "source": [
        "# Problem 2\n",
        "Kullanıcıdan vize ve final notu isteyin. Girilen vize notunun %40’ı ve \n",
        "girilen finalnotunun ise %60’ı alınarak yıl sonu not ortalaması hesaplanacaktır. \n",
        "\n",
        "Bu not ortalaması eğer 85 ve üzeri ise AA, \n",
        "\n",
        "75 ve 85 arasında ise BA, \n",
        "\n",
        "70 ve 75 arasında ise BB, \n",
        "\n",
        "65 ve 70 arasında ise CB,\n",
        "\n",
        "60 ve 65 arasında ise CC,\n",
        "\n",
        "55 ve 60 arasında ise DC,\n",
        "\n",
        "50 ve 55 arasında ise DD olarak hesaplanacaktır. \n",
        "\n",
        "Bu öğrencinin yıl sonu toplam notu 50’nin altında ise FF ile dersten kalacaktır. \n",
        "\n",
        "Ayrıca öğrencinin final notu 50’nin altında ise direkt FF ile kalacaktır."
      ]
    },
    {
      "cell_type": "code",
      "execution_count": 8,
      "metadata": {
        "id": "MXTtCxI1_Te8"
      },
      "outputs": [
        {
          "name": "stdout",
          "output_type": "stream",
          "text": [
            "Ortalama notunuz: 20.0\n",
            "Final notu 50’nin altında,FF ile kaldınız\n"
          ]
        }
      ],
      "source": [
        "# 2.Problemin Çözümünü Buraya Yazınız\n",
        "Vize = int(input(\"Lütfen vize notunuzu giriniz:\"))\n",
        "Final = int(input(\"Lütfen final notunuzu giriniz\"))\n",
        "\n",
        "Ortalama = (Vize*(40/100))+ (Final*(60/100))\n",
        "print(\"Ortalama notunuz:\",Ortalama)\n",
        "\n",
        "if Ortalama <50:\n",
        "    print(\"Final notu 50’nin altında,FF ile kaldınız\")\n",
        "elif Ortalama >= 85:\n",
        "    print(\"Notunuz: AA ile geçtiniz\")\n",
        "elif Ortalama >=75:\n",
        "    print(\"Notunuz: BA ile geçtiniz\")\n",
        "elif Ortalama >=70:\n",
        "    print(\"Notunuz: BB ile geçtiniz\")\n",
        "elif Ortalama >=65:\n",
        "    print(\"Notunuz: CB ile geçtiniz\")\n",
        "elif Ortalama >=60:\n",
        "    print(\"Notunuz: CC ile geçtiniz\")\n",
        "elif Ortalama >=55:\n",
        "    print(\"Notunuz: DC ile geçtiniz\")\n",
        "elif Ortalama >=50:\n",
        "    print(\"Notunuz: DD ile geçtiniz\")\n",
        "else:\n",
        "    print(f\"Ortalamanız {Ortalama} olduğu için FF kaldınız\")"
      ]
    },
    {
      "cell_type": "markdown",
      "metadata": {
        "id": "tAoRYCTC_Te8"
      },
      "source": [
        "# Problem 3\n",
        "İki YetGenli Zirve'de karşılaşıyorlar. Birbirlerini tanımak için sorular soruyorlar. Birbirlerine yaşlarını soruyorlar. Akıllarına bir Python programı yazıp, yaşlarını ve isimlerini giriyorlar. Büyük olanın yaşını ekrana yazdıran programı yazıyorlar. Sende bu iki YetGenli'ye destek olmak ister misin?\n",
        "\n",
        "```\n",
        "Birinci YetGenlinin ismi: Ahmet\n",
        "Birinci YetGenlinin yaşı : 20\n",
        "İkinci YetGenlinin ismi: Mehmet\n",
        "İkinci YetGenlinin yaşı : 25\n",
        "Mehmet'in yaşı daha büyük ve yaşı 25'tir.\n",
        "```"
      ]
    },
    {
      "cell_type": "code",
      "execution_count": 12,
      "metadata": {
        "id": "bPjE8W0i_Te8"
      },
      "outputs": [
        {
          "name": "stdout",
          "output_type": "stream",
          "text": [
            "Mehmet 25 yaşında daha büyük\n"
          ]
        }
      ],
      "source": [
        "# 3.Problemin Çözümünü Buraya Yazınız\n",
        "Yetgenli1 = \"Ahmet\"\n",
        "Yas1 = 20\n",
        "Yetgenli2 = \"Mehmet\"\n",
        "Yas2 = 25\n",
        "if Yas1 > Yas2:\n",
        "    print(f\"Ahmet {Yas1} yaşında daha büyük \")\n",
        "elif Yas2 > Yas1:\n",
        "    print(f\"Mehmet {Yas2} yaşında daha büyük\")\n"
      ]
    },
    {
      "cell_type": "markdown",
      "metadata": {
        "id": "zBVv8Tyg_Te9"
      },
      "source": [
        "# Problem 4\n",
        "Pandemi döneminde AVM'lerde ateş ölçümü yapılıyor. AVM'ye giren kişinin ateş ölçümü 37.5 derecenin altında ise girişe izin veriliyor. 37.5 derecenin üstünde ise girişe izin verilmiyor. AVM'ye girişe izin verilip verilmediğini ekrana yazdıran bir program yazın.\n",
        "\n",
        "Program sonunda şöyle bir çıktı elde etmelisiniz:\n",
        "\n",
        "```\n",
        "Ateşiniz 37.5 derece. AVM'ye girebilirsin! Maske takmayı unutma!\n",
        "Ateşiniz 37.6 derece. AVM'ye giremezsin! Hemen evine dön!\n",
        "```"
      ]
    },
    {
      "cell_type": "code",
      "execution_count": 15,
      "metadata": {
        "id": "TSAXs8et_Te9"
      },
      "outputs": [
        {
          "name": "stdout",
          "output_type": "stream",
          "text": [
            "Ateşiniz 38.5 derece. AVM'ye giremezsin! Hemen evine dön!\n"
          ]
        }
      ],
      "source": [
        "# 4.Problemin Çözümünü Buraya Yazınız\n",
        "\n",
        "ates = float(input(\"Lütfen ateşinizi ölçünüz\"))\n",
        "if ates > 37.5:\n",
        "    print(f\"Ateşiniz {ates} derece. AVM'ye giremezsin! Hemen evine dön!\")\n",
        "else:\n",
        "    print(f\"Ateşiniz {ates} derece. AVM'ye girebilirsin! Maske takmayı unutma!\")\n"
      ]
    },
    {
      "attachments": {},
      "cell_type": "markdown",
      "metadata": {
        "id": "6AEkZrDt_Te9"
      },
      "source": [
        "# Problem 5\n",
        "YetGen bir spor kulübüyle sponsorluk anlaşması yapıyor. Kulüp, sponsorluk anlaşmasına göre her YetGen liderinin beden kitle indeksini hesaplamak istiyor. Spor kulübü, beden kitle indeksini hesaplamak için YetGen Jump Python liderlerinden Berkcan ve Ahmet'i arıyor. Berkcan ve Ahmet, kulübe yardımcı olmak için bir Python programı yazıyorlar. Sende bu iki YetGen liderine destek olmak ister misin?\n",
        "\n",
        "Kullanıcıdan alınan boy ve kilo değerlerine göre beden kitle indeksini hesaplayın ve şu kurallara göre ekrana şu yazıları yazdırın.\n",
        "\n",
        "\n",
        "Beden Kitle İndeksi, kişinin ağırlığının (kg olarak) boyunun karesine (m olarak) bölünmesiyle hesaplanır.\n",
        "\n",
        "\n",
        "```\n",
        " BKİ 18.5'un altındaysa -------> Zayıf\n",
        "\n",
        " BKİ 18.5 ile 25 arasındaysa ------> Normal\n",
        "\n",
        " BKİ 25 ile 30 arasındaysa --------> Fazla Kilolu\n",
        "\n",
        " BKİ 30'un üstündeyse -------------> Obez\n",
        " Emre\n",
        "```\n",
        "\n"
      ]
    },
    {
      "cell_type": "code",
      "execution_count": 29,
      "metadata": {
        "id": "t-XPI_u0_Te-"
      },
      "outputs": [
        {
          "name": "stdout",
          "output_type": "stream",
          "text": [
            "25.15\n",
            " BKİ 25 ile 30 arasındaysa --------> Fazla Kilolu\n"
          ]
        }
      ],
      "source": [
        "# 5.Problemin Çözümünü Buraya Yazınız\n",
        "\n",
        "Boy =float(input(\"Lütfen boyunuzu giriniz:\"))\n",
        "Kilo = float(input(\"Lütfen kilonuzu giriniz\"))\n",
        "Bki = Kilo/(Boy*2)\n",
        "Bki = round(Bki,2)\n",
        "print(Bki)\n",
        "\n",
        "if Bki <18.5:\n",
        "    print(\"BKİ 18.5'un altındaysa -------> Zayı\")\n",
        "elif Bki <25:\n",
        "    print(\"BKİ 18.5 ile 25 arasındaysa ------> Normal\")\n",
        "elif Bki <30:\n",
        "    print(\" BKİ 25 ile 30 arasındaysa --------> Fazla Kilolu\")\n",
        "elif Bki >30:\n",
        "    print(\" BKİ 30'un üstündeyse -------------> Obez\")\n"
      ]
    },
    {
      "cell_type": "markdown",
      "metadata": {
        "id": "oFsvQyaO_Te-"
      },
      "source": [
        "# Problem 6\n",
        "Kullanıcıdan isim, yaş ve eğitim bilgilerini isteyip ehliyet alabilme  durumunu kontrol ediniz. \n",
        "\n",
        "Ehliyet alma koşulu en az 18 yaşında ve eğitim durumu lise ya da üniversite olmalıdır. "
      ]
    },
    {
      "cell_type": "code",
      "execution_count": 47,
      "metadata": {
        "id": "Tu2mcgco_Te-"
      },
      "outputs": [
        {
          "name": "stdout",
          "output_type": "stream",
          "text": [
            "Ehliyet alabilirsinizi\n"
          ]
        }
      ],
      "source": [
        "# 6.Problemin Çözümünü Buraya Yazınız\n",
        "\n",
        "isim = input(\"Lütfen isminizi giriniz:\")\n",
        "Yas = int(input(\"Lütfen yaşınızı giriniz:\"))\n",
        "Egitim =input(\"Lütfen eğitim durumunuzu giriniz\")\n",
        "\n",
        "if (Yas > 18 and (Egitim == \"lise\" or Egitim == \"üniversite\")):\n",
        "    print(\"Ehliyet alabilirsinizi\")\n",
        "else:\n",
        "    print(\"Ehliyet alamazsınız\")"
      ]
    },
    {
      "cell_type": "markdown",
      "metadata": {
        "id": "eUkxVSAE_Te_"
      },
      "source": [
        "# Problem 7\n",
        "Bir yılın artık yıl olup olmadığını kontrol etmek için bir program yazın. \n",
        "Artık yıl kuralı:\n",
        "\n",
        "a) Eğer yılın son iki basamağı (00) ile bitmiyor ve yalnızca 4'e tam bölünüyorsa artık yıldır. Ya da, \n",
        "\n",
        "b) Eğer yıl 400'e tam bölünüyorsa artık yıldır.\n",
        "\n",
        "**Örneğin**\n",
        "```\n",
        "2017 artık yıl değildir.\n",
        "1900 artık yıl değildir\n",
        "2012 artık yıldır.\n",
        "2000 artık yıldır.\n",
        "```"
      ]
    },
    {
      "cell_type": "code",
      "execution_count": 59,
      "metadata": {
        "id": "4uWh8qUL_Te_"
      },
      "outputs": [
        {
          "name": "stdout",
          "output_type": "stream",
          "text": [
            "1900 bir artık yıl değildir.\n"
          ]
        }
      ],
      "source": [
        "# 7.Problemin Çözümünü Buraya Yazınız\n",
        "\n",
        "yil =int(input(\"Lütfen bir yıl giriniz\"))\n",
        "\n",
        "if  (yil % 4 == 0 and yil % 100 !=0) or yil % 400 == 0:\n",
        "    print(f\"{yil} bir artık yıldır.\")\n",
        "else:\n",
        "    print(f\"{yil} bir artık yıl değildir.\")"
      ]
    }
  ],
  "metadata": {
    "colab": {
      "provenance": []
    },
    "kernelspec": {
      "display_name": "Python 3.10.5 64-bit",
      "language": "python",
      "name": "python3"
    },
    "language_info": {
      "codemirror_mode": {
        "name": "ipython",
        "version": 3
      },
      "file_extension": ".py",
      "mimetype": "text/x-python",
      "name": "python",
      "nbconvert_exporter": "python",
      "pygments_lexer": "ipython3",
      "version": "3.11.1"
    },
    "orig_nbformat": 4,
    "vscode": {
      "interpreter": {
        "hash": "5026d2d6e7aaaaba093def813beadff083d8733e4a511af01735cbabd156995d"
      }
    }
  },
  "nbformat": 4,
  "nbformat_minor": 0
}
